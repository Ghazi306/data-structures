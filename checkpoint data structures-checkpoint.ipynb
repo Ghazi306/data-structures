{
 "cells": [
  {
   "cell_type": "code",
   "execution_count": 28,
   "id": "129dc377",
   "metadata": {},
   "outputs": [
    {
     "name": "stdout",
     "output_type": "stream",
     "text": [
      "80\n"
     ]
    }
   ],
   "source": [
    "#Question 1:\n",
    "multiplie=[5,8,2]\n",
    "result=1\n",
    "for x in multiplie:\n",
    "    result=result*x\n",
    "print(result)\n",
    "\n",
    "    \n"
   ]
  },
  {
   "cell_type": "code",
   "execution_count": 22,
   "id": "e3f5ae6f",
   "metadata": {},
   "outputs": [
    {
     "data": {
      "text/plain": [
       "[[(2, 5), (1, 2), (4, 4), (2, 3), (2, 1)]]"
      ]
     },
     "execution_count": 22,
     "metadata": {},
     "output_type": "execute_result"
    }
   ],
   "source": [
    "#Question 2:\n",
    "num=[[(2, 5), (1, 2), (4, 4), (2, 3), (2, 1)]]\n",
    "num.sort()\n",
    "num"
   ]
  },
  {
   "cell_type": "code",
   "execution_count": 16,
   "id": "7aa98cd8",
   "metadata": {},
   "outputs": [
    {
     "name": "stdout",
     "output_type": "stream",
     "text": [
      "{'a': 400, 'b': 400, 'd': 400, 'c': 300}\n"
     ]
    }
   ],
   "source": [
    "#Question 3:\n",
    "d1={'a': 100, 'b': 200, 'c':300}\n",
    "d2 ={'a': 300, 'b': 200, 'd':400}\n",
    "for key in d1:\n",
    "    if key in d2:\n",
    "        d2[key]=d1[key]+d2[key]\n",
    "    else:\n",
    "            d2[key]=d1[key]\n",
    "            print(d2)"
   ]
  },
  {
   "cell_type": "code",
   "execution_count": 41,
   "id": "95e01058",
   "metadata": {},
   "outputs": [
    {
     "name": "stdout",
     "output_type": "stream",
     "text": [
      "Type here a number: 8\n",
      "{1: 1, 2: 4, 3: 9, 4: 16, 5: 25, 6: 36, 7: 49, 8: 64}\n"
     ]
    }
   ],
   "source": [
    "#Question 4:\n",
    "number = int(input(\"Type here a number: \"))\n",
    "\n",
    "numberDict = {}\n",
    "for i in range(1, number+1):\n",
    "    numberDict[i] = i*i\n",
    "\n",
    "print(numberDict)"
   ]
  },
  {
   "cell_type": "code",
   "execution_count": 60,
   "id": "7731680d",
   "metadata": {},
   "outputs": [
    {
     "name": "stdout",
     "output_type": "stream",
     "text": [
      "[('item3', '34.10'), ('item2', '25.20'), ('item1', '21.30')]\n"
     ]
    }
   ],
   "source": [
    "#Question 5:\n",
    "list=[('item1', '21.30'), ('item2', '25.20'), ('item3', '34.10')]\n",
    "print( sorted(list, key=lambda x: float(x[1]), reverse=True))"
   ]
  },
  {
   "cell_type": "code",
   "execution_count": null,
   "id": "9553d3cd",
   "metadata": {},
   "outputs": [],
   "source": []
  },
  {
   "cell_type": "code",
   "execution_count": null,
   "id": "6bfcff78",
   "metadata": {},
   "outputs": [],
   "source": []
  }
 ],
 "metadata": {
  "kernelspec": {
   "display_name": "Python 3",
   "language": "python",
   "name": "python3"
  },
  "language_info": {
   "codemirror_mode": {
    "name": "ipython",
    "version": 3
   },
   "file_extension": ".py",
   "mimetype": "text/x-python",
   "name": "python",
   "nbconvert_exporter": "python",
   "pygments_lexer": "ipython3",
   "version": "3.8.8"
  }
 },
 "nbformat": 4,
 "nbformat_minor": 5
}
